{
 "cells": [
  {
   "cell_type": "code",
   "execution_count": 2,
   "id": "6127f1ff-676f-4c9a-8450-115dfc2cc678",
   "metadata": {},
   "outputs": [],
   "source": [
    "# Analyzing Portfolio Risk and Return\n",
    "# Our project aims to analyze the effectiveness of different moving averages (SMA and EMA) in identifying potential trend reversals in the stock market. We will develop a software tool that allows users to input stock ticker symbols and select from various indicators. The tool will provide insights and recommendations based on historical data, focusing on the performance and profitability of moving average strategies. Additionally, we will compare the performance of these strategies with a buy and hold approach for the selected tickers and general stock market indexes. To enhance the user experience and streamline the financial analysis process, we will utilize Streamlit as the UI framework, focusing on the core financial aspects of the tool."
   ]
  },
  {
   "cell_type": "code",
   "execution_count": null,
   "id": "c107a65f",
   "metadata": {},
   "outputs": [],
   "source": []
  }
 ],
 "metadata": {
  "kernelspec": {
   "display_name": "Python 3 (ipykernel)",
   "language": "python",
   "name": "python3"
  },
  "language_info": {
   "codemirror_mode": {
    "name": "ipython",
    "version": 3
   },
   "file_extension": ".py",
   "mimetype": "text/x-python",
   "name": "python",
   "nbconvert_exporter": "python",
   "pygments_lexer": "ipython3",
   "version": "3.9.16"
  }
 },
 "nbformat": 4,
 "nbformat_minor": 5
}
