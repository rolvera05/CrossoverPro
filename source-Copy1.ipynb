{
 "cells": [
  {
   "cell_type": "code",
   "execution_count": 1,
   "id": "03e7f87b-5f69-4fe7-a0af-a09f28137fa4",
   "metadata": {},
   "outputs": [],
   "source": [
    "import yfinance as yf\n",
    "import pandas as pd\n",
    "import pandas_datareader as pdr\n",
    "import matplotlib.pyplot as plt\n",
    "import numpy as np\n",
    "import warnings\n",
    "warnings.filterwarnings(\"ignore\", category=DeprecationWarning)\n",
    "warnings.filterwarnings(\"ignore\", category=FutureWarning)\n",
    "warnings.filterwarnings(\"ignore\", category=UserWarning)\n",
    "warnings.filterwarnings(\"ignore\", category=RuntimeWarning)\n",
    "#warnings.filterwarnings(\"ignore\", category=SettingWithCopyWarning)\n",
    "\n",
    "# Disable SettingWithCopyWarning\n",
    "pd.options.mode.chained_assignment = None"
   ]
  },
  {
   "cell_type": "markdown",
   "id": "52df5234-c87a-44f5-8cf1-f4a92eb88633",
   "metadata": {},
   "source": [
    "# Defining Strategy\n",
    "## Day Trader Strategy (9-13 minute crossover)\n",
    "## Swing Trader Strategy (20-100 day crossover)\n",
    "## Long-term Trader Strategy (50 or 100-200 day crossover)"
   ]
  },
  {
   "cell_type": "code",
   "execution_count": 2,
   "id": "799d06cf-7c8b-4735-a0e3-7a7fc09ac071",
   "metadata": {},
   "outputs": [],
   "source": [
    "#def day_trader_strategy(ticker):\n",
    "    # Get stock data from Yahoo Finance\n",
    "   "
   ]
  },
  {
   "cell_type": "code",
   "execution_count": 3,
   "id": "a09d06f0-b7ec-4cda-aae9-fd3916da0b11",
   "metadata": {},
   "outputs": [],
   "source": [
    "def swing_trader_strategy(MSFT):\n",
    "    # Get stock data from Yahoo Finance\n",
    "    stock_data = yf.download(MSFT, period=\"1y\", interval=\"1d\")\n",
    "    \n",
    "    # Calculate moving averages\n",
    "    ema20 = stock_data['Close'].ewm(span=20).mean()\n",
    "    ema100 = stock_data['Close'].ewm(span=100).mean()\n",
    "    \n",
    "    # Create a DataFrame to store signals\n",
    "    signals = pd.DataFrame(index=stock_data.index)\n",
    "    signals['position'] = 0\n",
    "    \n",
    "    # Determine when to enter and exit the market\n",
    "    signals['short_ema'] = ema20\n",
    "    signals['long_ema'] = ema100\n",
    "    signals['position'][20:] = np.where(signals['short_ema'][20:] > signals['long_ema'][20:], 1, 0)\n",
    "    signals['position'][100:] = np.where(signals['short_ema'][100:] < signals['long_ema'][100:], -1, signals['position'][100:])\n",
    "    signals['position'] = signals['position'].ffill().fillna(0)\n",
    "    \n",
    "    # Plot the chart\n",
    "    fig, ax = plt.subplots(figsize=(16,9))\n",
    "    ax.plot(stock_data.index, stock_data['Close'], label='Close Price')\n",
    "    # ax.plot(signals.loc[signals.position == 1.0].index, stock_data['Close'][signals.position == 1.0], '^', markersize=10, color='g', label='Buy')\n",
    "    # ax.plot(signals.loc[signals.position == -1.0].index, stock_data['Close'][signals.position == -1.0], 'v', markersize=10, color='r', label='Sell')\n",
    "    ax.plot(ema20.index, ema20, label='20 EMA')\n",
    "    ax.plot(ema100.index, ema100, label='100 EMA')\n",
    "    ax.legend(loc='upper left')\n",
    "    ax.set_xlabel('Date')\n",
    "    ax.set_ylabel('Price ($)')\n",
    "    plt.show()\n",
    "    \n",
    "    return signals\n"
   ]
  },
  {
   "cell_type": "code",
   "execution_count": 4,
   "id": "22260338-27b3-4820-b7f5-7ab59dd84594",
   "metadata": {},
   "outputs": [
    {
     "name": "stdout",
     "output_type": "stream",
     "text": [
      "[*********************100%***********************]  1 of 1 completed\n",
      "                 Close\n",
      "Date                  \n",
      "2020-01-02  160.619995\n",
      "2020-01-03  158.619995\n",
      "2020-01-06  159.029999\n",
      "2020-01-07  157.580002\n",
      "2020-01-08  160.089996\n",
      "...                ...\n",
      "2022-12-23  238.729996\n",
      "2022-12-27  236.960007\n",
      "2022-12-28  234.529999\n",
      "2022-12-29  241.009995\n",
      "2022-12-30  239.820007\n",
      "\n",
      "[756 rows x 1 columns]\n"
     ]
    }
   ],
   "source": [
    "# Download Microsoft's historical price data from Yahoo Finance\n",
    "msft_df = yf.download('MSFT', start='2020-01-01', end='2023-01-01')\n",
    "msft_close = msft_df[['Close']]\n",
    "# Display the DataFrame\n",
    "print(msft_close)\n"
   ]
  },
  {
   "cell_type": "code",
   "execution_count": 5,
   "id": "dad961a1-f977-4720-9c3f-9b24b28c32fb",
   "metadata": {},
   "outputs": [
    {
     "data": {
      "text/html": [
       "<div>\n",
       "<style scoped>\n",
       "    .dataframe tbody tr th:only-of-type {\n",
       "        vertical-align: middle;\n",
       "    }\n",
       "\n",
       "    .dataframe tbody tr th {\n",
       "        vertical-align: top;\n",
       "    }\n",
       "\n",
       "    .dataframe thead th {\n",
       "        text-align: right;\n",
       "    }\n",
       "</style>\n",
       "<table border=\"1\" class=\"dataframe\">\n",
       "  <thead>\n",
       "    <tr style=\"text-align: right;\">\n",
       "      <th></th>\n",
       "      <th>Close</th>\n",
       "      <th>ema20</th>\n",
       "      <th>ema100</th>\n",
       "    </tr>\n",
       "    <tr>\n",
       "      <th>Date</th>\n",
       "      <th></th>\n",
       "      <th></th>\n",
       "      <th></th>\n",
       "    </tr>\n",
       "  </thead>\n",
       "  <tbody>\n",
       "    <tr>\n",
       "      <th>2020-01-02</th>\n",
       "      <td>160.619995</td>\n",
       "      <td>160.619995</td>\n",
       "      <td>160.619995</td>\n",
       "    </tr>\n",
       "    <tr>\n",
       "      <th>2020-01-03</th>\n",
       "      <td>158.619995</td>\n",
       "      <td>159.569995</td>\n",
       "      <td>159.609995</td>\n",
       "    </tr>\n",
       "    <tr>\n",
       "      <th>2020-01-06</th>\n",
       "      <td>159.029999</td>\n",
       "      <td>159.371712</td>\n",
       "      <td>159.412784</td>\n",
       "    </tr>\n",
       "    <tr>\n",
       "      <th>2020-01-07</th>\n",
       "      <td>157.580002</td>\n",
       "      <td>158.854473</td>\n",
       "      <td>158.940752</td>\n",
       "    </tr>\n",
       "    <tr>\n",
       "      <th>2020-01-08</th>\n",
       "      <td>160.089996</td>\n",
       "      <td>159.153335</td>\n",
       "      <td>159.179885</td>\n",
       "    </tr>\n",
       "    <tr>\n",
       "      <th>...</th>\n",
       "      <td>...</td>\n",
       "      <td>...</td>\n",
       "      <td>...</td>\n",
       "    </tr>\n",
       "    <tr>\n",
       "      <th>2022-12-23</th>\n",
       "      <td>238.729996</td>\n",
       "      <td>244.751423</td>\n",
       "      <td>248.952866</td>\n",
       "    </tr>\n",
       "    <tr>\n",
       "      <th>2022-12-27</th>\n",
       "      <td>236.960007</td>\n",
       "      <td>244.009383</td>\n",
       "      <td>248.715383</td>\n",
       "    </tr>\n",
       "    <tr>\n",
       "      <th>2022-12-28</th>\n",
       "      <td>234.529999</td>\n",
       "      <td>243.106585</td>\n",
       "      <td>248.434485</td>\n",
       "    </tr>\n",
       "    <tr>\n",
       "      <th>2022-12-29</th>\n",
       "      <td>241.009995</td>\n",
       "      <td>242.906909</td>\n",
       "      <td>248.287465</td>\n",
       "    </tr>\n",
       "    <tr>\n",
       "      <th>2022-12-30</th>\n",
       "      <td>239.820007</td>\n",
       "      <td>242.612919</td>\n",
       "      <td>248.119792</td>\n",
       "    </tr>\n",
       "  </tbody>\n",
       "</table>\n",
       "<p>756 rows × 3 columns</p>\n",
       "</div>"
      ],
      "text/plain": [
       "                 Close       ema20      ema100\n",
       "Date                                          \n",
       "2020-01-02  160.619995  160.619995  160.619995\n",
       "2020-01-03  158.619995  159.569995  159.609995\n",
       "2020-01-06  159.029999  159.371712  159.412784\n",
       "2020-01-07  157.580002  158.854473  158.940752\n",
       "2020-01-08  160.089996  159.153335  159.179885\n",
       "...                ...         ...         ...\n",
       "2022-12-23  238.729996  244.751423  248.952866\n",
       "2022-12-27  236.960007  244.009383  248.715383\n",
       "2022-12-28  234.529999  243.106585  248.434485\n",
       "2022-12-29  241.009995  242.906909  248.287465\n",
       "2022-12-30  239.820007  242.612919  248.119792\n",
       "\n",
       "[756 rows x 3 columns]"
      ]
     },
     "metadata": {},
     "output_type": "display_data"
    }
   ],
   "source": [
    "# Calculate moving averages\n",
    "ema20 = msft_df['Close'].ewm(span=20).mean()\n",
    "ema100 = msft_df['Close'].ewm(span=100).mean()\n",
    "msft_close['ema20'] = ema20 \n",
    "msft_close ['ema100'] = ema100\n",
    "display(msft_close)"
   ]
  },
  {
   "cell_type": "code",
   "execution_count": null,
   "id": "d8ffcbdb-10ae-42e5-9b95-c1a1891d33bf",
   "metadata": {},
   "outputs": [],
   "source": [
    "def EMA_crossover_strategy(msft_close, short_window, long_window):\n",
    "    signals = pd.DataFrame(index=msft_close.index)\n",
    "    signals['price'] = msft_close['Close']\n",
    "    signals['short_EMA'] = ema(msft_close['Close'], short_window)\n",
    "    signals['long_EMA'] = SMA(msft_close['Close'], long_window)\n",
    "    signals['signal'] = 0.0\n",
    "\n",
    "    signals['signal'][short_window:] = np.where(signals['short_SMA'][short_window:] > signals['long_SMA'][short_window:], 1.0, 0.0)\n",
    "\n",
    "    signals['positions'] = signals['signal'].diff()\n",
    "\n",
    "    return signals"
   ]
  },
  {
   "cell_type": "code",
   "execution_count": 9,
   "id": "b485180b-3309-484a-b94c-2e9fdb2e5430",
   "metadata": {},
   "outputs": [
    {
     "ename": "NameError",
     "evalue": "name 'SMA' is not defined",
     "output_type": "error",
     "traceback": [
      "\u001b[1;31m---------------------------------------------------------------------------\u001b[0m",
      "\u001b[1;31mNameError\u001b[0m                                 Traceback (most recent call last)",
      "\u001b[1;32m~\\AppData\\Local\\Temp\\ipykernel_32200\\3561990683.py\u001b[0m in \u001b[0;36m<module>\u001b[1;34m\u001b[0m\n\u001b[0;32m     34\u001b[0m \u001b[0mshort_window\u001b[0m \u001b[1;33m=\u001b[0m \u001b[1;36m50\u001b[0m\u001b[1;33m\u001b[0m\u001b[1;33m\u001b[0m\u001b[0m\n\u001b[0;32m     35\u001b[0m \u001b[0mlong_window\u001b[0m \u001b[1;33m=\u001b[0m \u001b[1;36m200\u001b[0m\u001b[1;33m\u001b[0m\u001b[1;33m\u001b[0m\u001b[0m\n\u001b[1;32m---> 36\u001b[1;33m \u001b[0msignals\u001b[0m \u001b[1;33m=\u001b[0m \u001b[0mSMA_crossover_strategy\u001b[0m\u001b[1;33m(\u001b[0m\u001b[0mmsft_close\u001b[0m\u001b[1;33m,\u001b[0m \u001b[0mshort_window\u001b[0m\u001b[1;33m,\u001b[0m \u001b[0mlong_window\u001b[0m\u001b[1;33m)\u001b[0m\u001b[1;33m\u001b[0m\u001b[1;33m\u001b[0m\u001b[0m\n\u001b[0m\u001b[0;32m     37\u001b[0m \u001b[1;33m\u001b[0m\u001b[0m\n\u001b[0;32m     38\u001b[0m \u001b[1;31m# Plot the signals on a chart\u001b[0m\u001b[1;33m\u001b[0m\u001b[1;33m\u001b[0m\u001b[1;33m\u001b[0m\u001b[0m\n",
      "\u001b[1;32m~\\AppData\\Local\\Temp\\ipykernel_32200\\3561990683.py\u001b[0m in \u001b[0;36mSMA_crossover_strategy\u001b[1;34m(msft_close, short_window, long_window)\u001b[0m\n\u001b[0;32m      5\u001b[0m     \u001b[0msignals\u001b[0m \u001b[1;33m=\u001b[0m \u001b[0mpd\u001b[0m\u001b[1;33m.\u001b[0m\u001b[0mDataFrame\u001b[0m\u001b[1;33m(\u001b[0m\u001b[0mindex\u001b[0m\u001b[1;33m=\u001b[0m\u001b[0mmsft_close\u001b[0m\u001b[1;33m.\u001b[0m\u001b[0mindex\u001b[0m\u001b[1;33m)\u001b[0m\u001b[1;33m\u001b[0m\u001b[1;33m\u001b[0m\u001b[0m\n\u001b[0;32m      6\u001b[0m     \u001b[0msignals\u001b[0m\u001b[1;33m[\u001b[0m\u001b[1;34m'price'\u001b[0m\u001b[1;33m]\u001b[0m \u001b[1;33m=\u001b[0m \u001b[0mmsft_close\u001b[0m\u001b[1;33m[\u001b[0m\u001b[1;34m'Close'\u001b[0m\u001b[1;33m]\u001b[0m\u001b[1;33m\u001b[0m\u001b[1;33m\u001b[0m\u001b[0m\n\u001b[1;32m----> 7\u001b[1;33m     \u001b[0msignals\u001b[0m\u001b[1;33m[\u001b[0m\u001b[1;34m'short_SMA'\u001b[0m\u001b[1;33m]\u001b[0m \u001b[1;33m=\u001b[0m \u001b[0mSMA\u001b[0m\u001b[1;33m(\u001b[0m\u001b[0mmsft_close\u001b[0m\u001b[1;33m[\u001b[0m\u001b[1;34m'Close'\u001b[0m\u001b[1;33m]\u001b[0m\u001b[1;33m,\u001b[0m \u001b[0mshort_window\u001b[0m\u001b[1;33m)\u001b[0m\u001b[1;33m\u001b[0m\u001b[1;33m\u001b[0m\u001b[0m\n\u001b[0m\u001b[0;32m      8\u001b[0m     \u001b[0msignals\u001b[0m\u001b[1;33m[\u001b[0m\u001b[1;34m'long_SMA'\u001b[0m\u001b[1;33m]\u001b[0m \u001b[1;33m=\u001b[0m \u001b[0mSMA\u001b[0m\u001b[1;33m(\u001b[0m\u001b[0mmsft_close\u001b[0m\u001b[1;33m[\u001b[0m\u001b[1;34m'Close'\u001b[0m\u001b[1;33m]\u001b[0m\u001b[1;33m,\u001b[0m \u001b[0mlong_window\u001b[0m\u001b[1;33m)\u001b[0m\u001b[1;33m\u001b[0m\u001b[1;33m\u001b[0m\u001b[0m\n\u001b[0;32m      9\u001b[0m     \u001b[0msignals\u001b[0m\u001b[1;33m[\u001b[0m\u001b[1;34m'signal'\u001b[0m\u001b[1;33m]\u001b[0m \u001b[1;33m=\u001b[0m \u001b[1;36m0.0\u001b[0m\u001b[1;33m\u001b[0m\u001b[1;33m\u001b[0m\u001b[0m\n",
      "\u001b[1;31mNameError\u001b[0m: name 'SMA' is not defined"
     ]
    }
   ],
   "source": [
    "#def SwingTrader(data, window):\n",
    "    #return data.rolling(window=window).mean()\n",
    "\n",
    "def EMA_crossover_strategy(msft_close, short_window, long_window):\n",
    "    signals = pd.DataFrame(index=msft_close.index)\n",
    "    signals['price'] = msft_close['Close']\n",
    "    signals['short_EMA'] = ema(msft_close['Close'], short_window)\n",
    "    signals['long_EMA'] = SMA(msft_close['Close'], long_window)\n",
    "    signals['signal'] = 0.0\n",
    "\n",
    "    signals['signal'][short_window:] = np.where(signals['short_SMA'][short_window:] > signals['long_SMA'][short_window:], 1.0, 0.0)\n",
    "\n",
    "    signals['positions'] = signals['signal'].diff()\n",
    "\n",
    "    return signals\n",
    "\n",
    "def plot_signals(data, signals):\n",
    "    fig, ax = plt.subplots()\n",
    "\n",
    "    ax.plot(data.index, msft_close['Close'], label='Price')\n",
    "    ax.plot(data.index, signals['short_SMA'], label='Short SMA')\n",
    "    ax.plot(data.index, signals['long_SMA'], label='Long SMA')\n",
    "\n",
    "    ax.plot(signals.loc[signals.positions == 1.0].index, signals.short_SMA[signals.positions == 1.0], '^', markersize=10, color='g', label='Buy')\n",
    "    ax.plot(signals.loc[signals.positions == -1.0].index, signals.short_SMA[signals.positions == -1.0], 'v', markersize=10, color='r', label='Sell')\n",
    "\n",
    "    ax.legend(loc='best')\n",
    "    plt.show()\n",
    "\n",
    "# Load historical price data (replace 'your_data.csv' with your own data file)\n",
    "#data = pd.read_csv('your_data.csv', index_col='Date', parse_dates=True)\n",
    "\n",
    "# Test the SMA crossover strategy with desired window lengths\n",
    "short_window = 50\n",
    "long_window = 200\n",
    "signals = SMA_crossover_strategy(msft_close, short_window, long_window)\n",
    "\n",
    "# Plot the signals on a chart\n",
    "plot_signals(msft_close, signals)\n"
   ]
  },
  {
   "cell_type": "code",
   "execution_count": null,
   "id": "e34be75a-9a45-49d4-bf1a-00888d80c82f",
   "metadata": {},
   "outputs": [],
   "source": [
    "  # Create a DataFrame to store signals\n",
    "    signals = pd.DataFrame(index=stock_data.index)\n",
    "    signals['position'] = 0\n",
    "    \n",
    "    # Determine when to enter and exit the market\n",
    "    signals['short_ema'] = ema20\n",
    "    signals['long_ema'] = ema100\n",
    "    signals['position'][20:] = np.where(signals['short_ema'][20:] > signals['long_ema'][20:], 1, 0)\n",
    "    signals['position'][100:] = np.where(signals['short_ema'][100:] < signals['long_ema'][100:], -1, signals['position'][100:])\n",
    "    signals['position'] = signals['position'].ffill().fillna(0)\n",
    "    "
   ]
  },
  {
   "cell_type": "code",
   "execution_count": null,
   "id": "83e09a90-0eb2-4f51-a33b-0d529b2a5497",
   "metadata": {},
   "outputs": [],
   "source": [
    "#def long_term_trader_strategy(ticker):\n",
    "    # Get stock data from Yahoo Finance\n",
    "   "
   ]
  },
  {
   "cell_type": "markdown",
   "id": "c7b7fd14-9e51-4805-80bf-1becb5b1f3fd",
   "metadata": {},
   "source": [
    "# Command Line Interface\n",
    "## 1. Choose Strategy (Day Trader, Swing Trader, Long-term Trader)\n",
    "## 2. Choose Ticker\n",
    "## 3. To-do: Choose dates "
   ]
  },
  {
   "cell_type": "code",
   "execution_count": null,
   "id": "1c640251-ef37-4f98-99bf-c7d0981a5c29",
   "metadata": {},
   "outputs": [],
   "source": [
    "# Ask user for input\n",
    "#ticker = input(\"Enter the ticker symbol of the stock: \")\n",
    "#strategy_choice = input(\"Choose a strategy (1 = day trader, 2 = swing trader, 3 = long-term trader): \")\n",
    "\n",
    "# Backtesting function\n",
    "def backtest(signals, stock_data, initial_capital=10000):\n",
    "    positions = pd.DataFrame(index=signals.index).fillna(0)\n",
    "    positions['stock'] = signals['position'] * stock_data['Close']\n",
    "    portfolio = positions.multiply(stock_data['Close'], axis=0)\n",
    "    pos_diff = positions.diff()\n",
    "    portfolio['holdings'] = (positions.multiply(stock_data['Close'], axis=0)).sum(axis=1)\n",
    "    portfolio['cash'] = initial_capital - (pos_diff.multiply(stock_data['Close'], axis=0)).sum(axis=1).cumsum()\n",
    "    portfolio['total'] = portfolio['cash'] + portfolio['holdings']\n",
    "    portfolio['returns'] = portfolio['total'].pct_change()\n",
    "    return portfolio\n",
    "\n",
    "# Execute the chosen EMA crossover strategy and plot the results\n",
    "if strategy_choice == \"1\":\n",
    "    signals = day_trader_strategy(ticker)\n",
    "    stock_data = yf.download(ticker, period=\"1d\", interval=\"5m\")\n",
    "elif strategy_choice == \"2\":\n",
    "    signals = swing_trader_strategy(ticker)\n",
    "    stock_data = yf.download(ticker, period=\"1y\", interval=\"1d\")\n",
    "elif strategy_choice == \"3\":\n",
    "    signals = long_term_trader_strategy(ticker)\n",
    "    stock_data = yf.download(ticker, period=\"5y\", interval=\"1d\")\n",
    "else:\n",
    "    print(\"Invalid strategy choice.\")\n",
    "    stock_data = None\n",
    "    \n",
    "# Perform backtesting and print the results\n",
    "if stock_data is not None:\n",
    "    print(signals)\n",
    "    portfolio = backtest(signals, stock_data)\n",
    "    print(\"\\nBacktesting Results:\")\n",
    "    print(portfolio)\n",
    "    \n",
    "# Re-enable SettingWithCopyWarning\n",
    "pd.options.mode.chained_assignment = 'warn'"
   ]
  },
  {
   "cell_type": "markdown",
   "id": "a4c657c2-b06d-450d-b539-f29e9aa1667a",
   "metadata": {
    "tags": []
   },
   "source": [
    "# II. EXECUTING STRATEGY\n",
    "## Identify when the long-term and short-term moving averages cross and define as a buy or sell opportunity\n",
    "\n",
    "Inputs: Moving average dataframe\n",
    "Outputs: Prices at crossovers and identifying buy versus sell, plot of buy/sell signals\n"
   ]
  },
  {
   "cell_type": "code",
   "execution_count": null,
   "id": "f55d1aa1-41d2-49bf-a28a-471331eb37d4",
   "metadata": {},
   "outputs": [],
   "source": [
    "# Entry Price for buying is when 5 minutes prices or closing prices cross over from 0 to 1\n",
    "# Exit price for selling is when it goes from 0 or 1 to -1"
   ]
  },
  {
   "cell_type": "code",
   "execution_count": null,
   "id": "8da723cb-ec23-4ca4-989e-4790da9fadd6",
   "metadata": {},
   "outputs": [],
   "source": [
    "# signals_test_df = signals"
   ]
  },
  {
   "cell_type": "markdown",
   "id": "92e65eed-cb81-4ec4-a6d1-d3c289db370c",
   "metadata": {},
   "source": [
    "You can use the signals_test_df to test your function"
   ]
  },
  {
   "cell_type": "code",
   "execution_count": null,
   "id": "f6d0b652-67c1-40a3-8019-47bdcdfe714e",
   "metadata": {},
   "outputs": [],
   "source": []
  },
  {
   "cell_type": "code",
   "execution_count": null,
   "id": "817a0ea3-5cdf-45fd-a9a9-503f311ad6a6",
   "metadata": {},
   "outputs": [],
   "source": [
    " # Function to create a dataframe \n",
    "\n",
    "# def buy_sell_opportunity(moving_avg_df):\n",
    "    \n",
    "#     moving_avg_df['Buy_Sell'] = np.where(moving_avg_df['position'] == 1, 'Buy', \n",
    "#                                            np.where(moving_avg_df['position'] == -1, 'Sell or Out of Position', 'No Position'))\n",
    "    \n",
    "#     # Create columns to output for user\n",
    "#     # moving_avg_df['entry_price'] = \n",
    "#     # moving_avg_df['Exit_Price'] = \n",
    "    \n",
    "#     moving_avg_df = moving_avg_df[['Buy_Sell']]\n",
    "    \n",
    "#     return moving_avg_df"
   ]
  },
  {
   "cell_type": "code",
   "execution_count": null,
   "id": "c1afdcb1-4ffc-4026-96c0-ac95d72cba00",
   "metadata": {},
   "outputs": [],
   "source": [
    "# # Calling the function\n",
    "\n",
    "# buy_sell_opportunity(moving_avg_df = signals)"
   ]
  },
  {
   "cell_type": "code",
   "execution_count": null,
   "id": "b0658655-2ecd-4898-8637-62d0187d4314",
   "metadata": {},
   "outputs": [],
   "source": [
    "# # Call the function you just created! Using the signals dataset that was created abov\n",
    "# stock_data_test = stock_data\n",
    "# stock_data_test['profit_loss'] = (stock_data_test['Close'] - stock_data_test['Open']) * stock_data_test['Volume']\n",
    "# stock_data_test['profit_loss_ind'] = np.where(stock_data_test['profit_loss'] > 0, 'Profit', 'Loss')\n",
    "# stock_data_test"
   ]
  },
  {
   "cell_type": "markdown",
   "id": "4cad0130-4c73-4cc6-9868-1823135e4cd7",
   "metadata": {},
   "source": [
    "# III. CALCULATING PROFITABILITY\n",
    "## Calculating the profitability of the strategy within the given time frame\n",
    "Thoughts: price comparisons begin on date of first trigger\n",
    "\n",
    "\n",
    "Inputs: Moving average dataframe\n",
    "Outputs: Prices at crossovers and identifying buy versus sell, plot of buy/sell signals"
   ]
  },
  {
   "cell_type": "code",
   "execution_count": null,
   "id": "44097e17-7eac-4cb0-a77c-09341125a503",
   "metadata": {},
   "outputs": [],
   "source": [
    "# stock_data"
   ]
  },
  {
   "cell_type": "code",
   "execution_count": null,
   "id": "d9d0e8d9-a9d3-4a4e-83d8-f529d89738a6",
   "metadata": {},
   "outputs": [],
   "source": [
    " signals"
   ]
  },
  {
   "cell_type": "code",
   "execution_count": null,
   "id": "73a936d3-85ef-4d40-ae5c-d831e460bd07",
   "metadata": {},
   "outputs": [],
   "source": [
    "signals.drop(columns=['short_ema','long_ema',], inplace=True, axis=1)"
   ]
  },
  {
   "cell_type": "code",
   "execution_count": null,
   "id": "e1323036-595d-4e64-93b1-bd199cc4418a",
   "metadata": {},
   "outputs": [],
   "source": [
    "signals_next = signals.shift(-1)"
   ]
  },
  {
   "cell_type": "code",
   "execution_count": null,
   "id": "de4fc966-74af-41b8-b980-59feff55b446",
   "metadata": {},
   "outputs": [],
   "source": [
    "signals_next"
   ]
  },
  {
   "cell_type": "code",
   "execution_count": null,
   "id": "69c72eff-3e37-413c-96b8-d4b28a38a2f8",
   "metadata": {},
   "outputs": [],
   "source": []
  },
  {
   "cell_type": "code",
   "execution_count": null,
   "id": "d4430f89-436a-42fc-8af7-921ababae05f",
   "metadata": {},
   "outputs": [],
   "source": [
    "signals_next.rename(columns={'position':'position_next'}, inplace=True)"
   ]
  },
  {
   "cell_type": "code",
   "execution_count": null,
   "id": "c67642f8-3e3a-4591-8eb1-6ab5451430f5",
   "metadata": {},
   "outputs": [],
   "source": [
    "signals_next.rename(columns={'closed':'closed_next'}, inplace=True)"
   ]
  },
  {
   "cell_type": "code",
   "execution_count": null,
   "id": "41865e9a-0cdf-434a-8df3-8edadf00bae2",
   "metadata": {},
   "outputs": [],
   "source": [
    "signals_merged = pd.merge(left=signals,right=signals_next,left_on='Datetime',right_on='Datetime')"
   ]
  },
  {
   "cell_type": "code",
   "execution_count": null,
   "id": "09e47ad2-3b22-4d10-9ab3-346320062740",
   "metadata": {},
   "outputs": [],
   "source": [
    "signals_merged.tail(50)"
   ]
  },
  {
   "cell_type": "code",
   "execution_count": null,
   "id": "b97233b2-4f60-46ad-8911-06d3aacbb2db",
   "metadata": {},
   "outputs": [],
   "source": [
    "filtered_signals_merged = signals_merged[signals_merged['position'] != signals_merged['position_next']]"
   ]
  },
  {
   "cell_type": "code",
   "execution_count": null,
   "id": "c460a853-1fca-4ff0-b09c-57692248814f",
   "metadata": {},
   "outputs": [],
   "source": [
    "filtered_signals_merged.reset_index(inplace=True)"
   ]
  },
  {
   "cell_type": "code",
   "execution_count": null,
   "id": "d19373b5-d9a5-4566-9056-e21172e5085c",
   "metadata": {},
   "outputs": [],
   "source": [
    "filtered_signals_merged"
   ]
  },
  {
   "cell_type": "code",
   "execution_count": null,
   "id": "ae9482d1-0f98-42b3-a2a4-a51a506e38f2",
   "metadata": {},
   "outputs": [],
   "source": [
    "filtered_signals_merged['row_num']= np.arange(len(filtered_signals_merged))+1"
   ]
  },
  {
   "cell_type": "code",
   "execution_count": null,
   "id": "40c6eac2-1493-4d0b-9428-7b2af8d9151f",
   "metadata": {},
   "outputs": [],
   "source": [
    "filtered_signals_merged"
   ]
  },
  {
   "cell_type": "code",
   "execution_count": null,
   "id": "011d01c2-6204-4d0d-8a29-f71de448b8cb",
   "metadata": {},
   "outputs": [],
   "source": [
    "pnl = pd.merge(left=filtered_signals_merged,right=filtered_signals_merged,right_index=True,left_on=\"row_num\")"
   ]
  },
  {
   "cell_type": "code",
   "execution_count": null,
   "id": "95561b46-4454-4588-846b-5819424e230a",
   "metadata": {},
   "outputs": [],
   "source": [
    "pnl"
   ]
  },
  {
   "cell_type": "code",
   "execution_count": null,
   "id": "bd9b9953-2ae1-4fce-a689-ae80ed005608",
   "metadata": {},
   "outputs": [],
   "source": [
    "pnl = pnl[pnl.row_num%2==1]"
   ]
  },
  {
   "cell_type": "code",
   "execution_count": null,
   "id": "6940c7c7-c86a-4093-8f33-36fcb6e07c72",
   "metadata": {},
   "outputs": [],
   "source": []
  },
  {
   "cell_type": "code",
   "execution_count": null,
   "id": "f399e1fa-2084-4dac-aec0-f752563533a3",
   "metadata": {},
   "outputs": [],
   "source": [
    "pnl.drop(columns=['row_num','position_x','closed_x','position_next_x','row_num_x','position_y','closed_y','position_next_y','row_num_y'], inplace=True, axis=1)"
   ]
  },
  {
   "cell_type": "code",
   "execution_count": null,
   "id": "a944e408-d6a1-4652-a2f9-e52fe96c3e2f",
   "metadata": {},
   "outputs": [],
   "source": [
    "pnl"
   ]
  },
  {
   "cell_type": "code",
   "execution_count": null,
   "id": "e4c72f8d-5256-4a0e-93ac-5e07724f9b36",
   "metadata": {},
   "outputs": [],
   "source": [
    "pnl.rename(columns={'Datetime_x':'entry_time'}, inplace=True)"
   ]
  },
  {
   "cell_type": "code",
   "execution_count": null,
   "id": "650afe13-0068-416e-bd7f-230909c9a7ee",
   "metadata": {},
   "outputs": [],
   "source": [
    "pnl.rename(columns={'closed_next_x':'entry_price'}, inplace=True)"
   ]
  },
  {
   "cell_type": "code",
   "execution_count": null,
   "id": "95872a79-7bee-443d-9361-ccfaf26ca1d2",
   "metadata": {},
   "outputs": [],
   "source": [
    "pnl.rename(columns={'Datetime_y':'exit_time'}, inplace=True)"
   ]
  },
  {
   "cell_type": "code",
   "execution_count": null,
   "id": "b1212110-9d29-4b14-a123-c771912138ce",
   "metadata": {},
   "outputs": [],
   "source": [
    "pnl.rename(columns={'closed_next_y':'exit_price'}, inplace=True)"
   ]
  },
  {
   "cell_type": "code",
   "execution_count": null,
   "id": "54970c94-e2a9-436e-9d08-4061a397e967",
   "metadata": {},
   "outputs": [],
   "source": [
    "stats = pnl"
   ]
  },
  {
   "cell_type": "code",
   "execution_count": null,
   "id": "a76c7b3e-7df7-4c4e-9c3d-422b0879eaa7",
   "metadata": {},
   "outputs": [],
   "source": [
    "stats"
   ]
  },
  {
   "cell_type": "code",
   "execution_count": null,
   "id": "bc14b0aa-5152-4a2c-8b9e-1107357e98b1",
   "metadata": {},
   "outputs": [],
   "source": [
    "# Function to create a dataframe \n",
    "\n",
    "# def buy_sell_opportunity(moving_avg_df):\n",
    "    \n",
    "    \n",
    "    \n",
    "#     return moving_avg_df"
   ]
  }
 ],
 "metadata": {
  "kernelspec": {
   "display_name": "Python 3 (ipykernel)",
   "language": "python",
   "name": "python3"
  },
  "language_info": {
   "codemirror_mode": {
    "name": "ipython",
    "version": 3
   },
   "file_extension": ".py",
   "mimetype": "text/x-python",
   "name": "python",
   "nbconvert_exporter": "python",
   "pygments_lexer": "ipython3",
   "version": "3.7.13"
  }
 },
 "nbformat": 4,
 "nbformat_minor": 5
}
