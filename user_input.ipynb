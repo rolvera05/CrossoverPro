{
 "cells": [
  {
   "cell_type": "markdown",
   "id": "cc187da5-b5aa-41bb-8db7-58956d3f22d7",
   "metadata": {},
   "source": [
    "# Customer Strategy Inputs"
   ]
  },
  {
   "cell_type": "code",
   "execution_count": 19,
   "id": "322d2564-ddfb-45c8-bf5d-0e67cd336432",
   "metadata": {},
   "outputs": [
    {
     "data": {
      "application/vnd.jupyter.widget-view+json": {
       "model_id": "10348183349c417cab3b7ddd3e1a6bbc",
       "version_major": 2,
       "version_minor": 0
      },
      "text/plain": [
       "Text(value='', description='Ticker:')"
      ]
     },
     "metadata": {},
     "output_type": "display_data"
    },
    {
     "data": {
      "application/vnd.jupyter.widget-view+json": {
       "model_id": "9b48870e21474179a30074b9085181e0",
       "version_major": 2,
       "version_minor": 0
      },
      "text/plain": [
       "DatePicker(value=None, description='Start Date:')"
      ]
     },
     "metadata": {},
     "output_type": "display_data"
    },
    {
     "data": {
      "application/vnd.jupyter.widget-view+json": {
       "model_id": "6b2c563333d84974afe9cc3a1d38f59b",
       "version_major": 2,
       "version_minor": 0
      },
      "text/plain": [
       "DatePicker(value=None, description='End Date:')"
      ]
     },
     "metadata": {},
     "output_type": "display_data"
    },
    {
     "data": {
      "application/vnd.jupyter.widget-view+json": {
       "model_id": "e544b53e69324cacba77588c131a1420",
       "version_major": 2,
       "version_minor": 0
      },
      "text/plain": [
       "RadioButtons(description='Strategy:', options=(('Short-term trader (<6 months)', 1), ('Medium-term trader (6-1…"
      ]
     },
     "metadata": {},
     "output_type": "display_data"
    },
    {
     "data": {
      "application/vnd.jupyter.widget-view+json": {
       "model_id": "5c90247c596f4337ad86daf3862c403e",
       "version_major": 2,
       "version_minor": 0
      },
      "text/plain": [
       "Dropdown(description='Crossover:', options=(), value=None)"
      ]
     },
     "metadata": {},
     "output_type": "display_data"
    },
    {
     "data": {
      "application/vnd.jupyter.widget-view+json": {
       "model_id": "76649f5fb8034678ab8a5895d594c434",
       "version_major": 2,
       "version_minor": 0
      },
      "text/plain": [
       "Button(description='Submit', style=ButtonStyle())"
      ]
     },
     "metadata": {},
     "output_type": "display_data"
    }
   ],
   "source": [
    "import ipywidgets as widgets\n",
    "from IPython.display import display\n",
    "\n",
    "crossover_mapping = {\n",
    "    1: (5, 10),\n",
    "    2: (5, 15),\n",
    "    3: (10, 20),\n",
    "    4: (10, 30),\n",
    "    5: (10, 50),\n",
    "    6: (20, 100),\n",
    "    7: (50, 200),\n",
    "    8: (100, 200),\n",
    "    9: (50, 365),\n",
    "    10: (100, 365),\n",
    "}\n",
    "\n",
    "def on_strategy_change(change):\n",
    "    if change['name'] == 'value' and change['type'] == 'change':\n",
    "        strategy_choice = change['new']\n",
    "        options = []\n",
    "        if strategy_choice == 1:\n",
    "            options = [('5 days/10 days', 1), ('5 days/15 days', 2), ('10 days/20 days', 3)]\n",
    "        elif strategy_choice == 2:\n",
    "            options = [('10 days/30 days', 4), ('10 days/50 days', 5), ('20 days/100 days', 6)]\n",
    "        elif strategy_choice == 3:\n",
    "            options = [('50 days/200 days', 7), ('100 days/200 days', 8), ('50 days/365 days', 9), ('100 days/365 days', 10)]\n",
    "        crossover_var.options = options\n",
    "\n",
    "def on_submit(button):\n",
    "    ticker = ticker_var.value\n",
    "    start_date = start_date_var.value\n",
    "    end_date = end_date_var.value\n",
    "    selected_crossover = crossover_var.value\n",
    "    short_SMA, long_SMA = crossover_mapping[selected_crossover]\n",
    "    print(\"Ticker:\", ticker)\n",
    "    print(\"Start Date:\", start_date)\n",
    "    print(\"End Date:\", end_date)\n",
    "    print(\"Selected crossover:\", selected_crossover)\n",
    "    print(\"Short SMA:\", short_SMA)\n",
    "    print(\"Long SMA:\", long_SMA)\n",
    "\n",
    "ticker_var = widgets.Text(description=\"Ticker:\")\n",
    "start_date_var = widgets.DatePicker(description=\"Start Date:\")\n",
    "end_date_var = widgets.DatePicker(description=\"End Date:\")\n",
    "\n",
    "strategy_var = widgets.RadioButtons(\n",
    "    options=[\n",
    "        ('Short-term trader (<6 months)', 1),\n",
    "        ('Medium-term trader (6-12 months)', 2),\n",
    "        ('Long-term trader (>12 months)', 3),\n",
    "    ],\n",
    "    description='Strategy:',\n",
    "    style={'description_width': 'initial'}\n",
    ")\n",
    "strategy_var.observe(on_strategy_change)\n",
    "\n",
    "crossover_var = widgets.Dropdown(description='Crossover:', options=[])\n",
    "\n",
    "submit_button = widgets.Button(description=\"Submit\")\n",
    "submit_button.on_click(on_submit)\n",
    "\n",
    "display(ticker_var, start_date_var, end_date_var, strategy_var, crossover_var, submit_button)\n",
    "\n"
   ]
  },
  {
   "cell_type": "markdown",
   "id": "65d41549-fc19-4fee-ab77-943ee1b61248",
   "metadata": {},
   "source": [
    "# User Inputs"
   ]
  },
  {
   "cell_type": "code",
   "execution_count": 20,
   "id": "8cfdcf44-0778-48d8-b3ad-305d153c8e3d",
   "metadata": {},
   "outputs": [
    {
     "name": "stdout",
     "output_type": "stream",
     "text": [
      "Ticker:  AMZN\n",
      "Start date:  2015-10-20\n",
      "End date:  2020-10-20\n",
      "Short window:  10\n",
      "Long window:  50\n"
     ]
    }
   ],
   "source": [
    "ticker = ticker_var.value\n",
    "start_date =  start_date_var.value\n",
    "end_date = end_date_var.value\n",
    "short_window = crossover_mapping[crossover_var.value][0]\n",
    "long_window = crossover_mapping[crossover_var.value][1]\n",
    "\n",
    "print(\"Ticker: \", ticker)\n",
    "print(\"Start date: \",start_date)\n",
    "print(\"End date: \",end_date)\n",
    "print(\"Short window: \",short_window)\n",
    "print(\"Long window: \",long_window)"
   ]
  },
  {
   "cell_type": "code",
   "execution_count": 21,
   "id": "016f863a-cfd9-4943-a385-014d134afce5",
   "metadata": {},
   "outputs": [
    {
     "name": "stdout",
     "output_type": "stream",
     "text": [
      "Stored 'ticker' (str)\n",
      "Stored 'start_date' (date)\n",
      "Stored 'end_date' (date)\n",
      "Stored 'short_window' (int)\n",
      "Stored 'long_window' (int)\n"
     ]
    }
   ],
   "source": [
    "# Store data\n",
    "%store ticker\n",
    "%store start_date\n",
    "%store end_date\n",
    "%store short_window\n",
    "%store long_window"
   ]
  }
 ],
 "metadata": {
  "kernelspec": {
   "display_name": "dev",
   "language": "python",
   "name": "dev"
  },
  "language_info": {
   "codemirror_mode": {
    "name": "ipython",
    "version": 3
   },
   "file_extension": ".py",
   "mimetype": "text/x-python",
   "name": "python",
   "nbconvert_exporter": "python",
   "pygments_lexer": "ipython3",
   "version": "3.7.13"
  }
 },
 "nbformat": 4,
 "nbformat_minor": 5
}
