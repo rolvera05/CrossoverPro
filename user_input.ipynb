{
 "cells": [
  {
   "cell_type": "code",
   "execution_count": 1,
   "id": "96eb2301-a939-451d-b762-195378db358c",
   "metadata": {},
   "outputs": [],
   "source": [
    "import ipywidgets as widgets\n",
    "from IPython.display import display"
   ]
  },
  {
   "cell_type": "markdown",
   "id": "cc187da5-b5aa-41bb-8db7-58956d3f22d7",
   "metadata": {},
   "source": [
    "# Customer Strategy Inputs"
   ]
  },
  {
   "cell_type": "code",
   "execution_count": 2,
   "id": "322d2564-ddfb-45c8-bf5d-0e67cd336432",
   "metadata": {},
   "outputs": [
    {
     "data": {
      "application/vnd.jupyter.widget-view+json": {
       "model_id": "8790d7caeb974c5599dfb1d484093da8",
       "version_major": 2,
       "version_minor": 0
      },
      "text/plain": [
       "Text(value='', description='Ticker:')"
      ]
     },
     "metadata": {},
     "output_type": "display_data"
    },
    {
     "data": {
      "application/vnd.jupyter.widget-view+json": {
       "model_id": "fa3ee9ccd9be4c8fa504ca50baf0c9e4",
       "version_major": 2,
       "version_minor": 0
      },
      "text/plain": [
       "DatePicker(value=None, description='Start Date:')"
      ]
     },
     "metadata": {},
     "output_type": "display_data"
    },
    {
     "data": {
      "application/vnd.jupyter.widget-view+json": {
       "model_id": "d2abe9f803f54fd2af603467e8707230",
       "version_major": 2,
       "version_minor": 0
      },
      "text/plain": [
       "DatePicker(value=None, description='End Date:')"
      ]
     },
     "metadata": {},
     "output_type": "display_data"
    },
    {
     "data": {
      "application/vnd.jupyter.widget-view+json": {
       "model_id": "1ffe472e522e4379910487d89083b726",
       "version_major": 2,
       "version_minor": 0
      },
      "text/plain": [
       "RadioButtons(description='Strategy:', options=(('Short-term trader (<6 months)', 1), ('Medium-term trader (6-1…"
      ]
     },
     "metadata": {},
     "output_type": "display_data"
    },
    {
     "data": {
      "application/vnd.jupyter.widget-view+json": {
       "model_id": "b457e894cb7f46e493c8292a2c7662ae",
       "version_major": 2,
       "version_minor": 0
      },
      "text/plain": [
       "Dropdown(description='Crossover:', options=(), value=None)"
      ]
     },
     "metadata": {},
     "output_type": "display_data"
    },
    {
     "data": {
      "application/vnd.jupyter.widget-view+json": {
       "model_id": "4819fe68e1e149d9a82362b466084aaa",
       "version_major": 2,
       "version_minor": 0
      },
      "text/plain": [
       "Button(description='Submit', style=ButtonStyle())"
      ]
     },
     "metadata": {},
     "output_type": "display_data"
    }
   ],
   "source": [
    "import ipywidgets as widgets\n",
    "from IPython.display import display\n",
    "\n",
    "crossover_mapping = {\n",
    "    1: (5, 10),\n",
    "    2: (5, 15),\n",
    "    3: (10, 20),\n",
    "    4: (10, 30),\n",
    "    5: (10, 50),\n",
    "    6: (20, 100),\n",
    "    7: (50, 200),\n",
    "    8: (100, 200),\n",
    "    9: (50, 365),\n",
    "    10: (100, 365),\n",
    "}\n",
    "\n",
    "def on_strategy_change(change):\n",
    "    if change['name'] == 'value' and change['type'] == 'change':\n",
    "        strategy_choice = change['new']\n",
    "        options = []\n",
    "        if strategy_choice == 1:\n",
    "            options = [('5 days/10 days', 1), ('5 days/15 days', 2), ('10 days/20 days', 3)]\n",
    "        elif strategy_choice == 2:\n",
    "            options = [('10 days/30 days', 4), ('10 days/50 days', 5), ('20 days/100 days', 6)]\n",
    "        elif strategy_choice == 3:\n",
    "            options = [('50 days/200 days', 7), ('100 days/200 days', 8), ('50 days/365 days', 9), ('100 days/365 days', 10)]\n",
    "        crossover_var.options = options\n",
    "\n",
    "def on_submit(button):\n",
    "    ticker = ticker_var.value\n",
    "    start_date = start_date_var.value\n",
    "    end_date = end_date_var.value\n",
    "    selected_crossover = crossover_var.value\n",
    "    short_SMA, long_SMA = crossover_mapping[selected_crossover]\n",
    "    print(\"Ticker:\", ticker)\n",
    "    print(\"Start Date:\", start_date)\n",
    "    print(\"End Date:\", end_date)\n",
    "    print(\"Selected crossover:\", selected_crossover)\n",
    "    print(\"Short SMA:\", short_SMA)\n",
    "    print(\"Long SMA:\", long_SMA)\n",
    "\n",
    "ticker_var = widgets.Text(description=\"Ticker:\")\n",
    "start_date_var = widgets.DatePicker(description=\"Start Date:\")\n",
    "end_date_var = widgets.DatePicker(description=\"End Date:\")\n",
    "\n",
    "strategy_var = widgets.RadioButtons(\n",
    "    options=[\n",
    "        ('Short-term trader (<6 months)', 1),\n",
    "        ('Medium-term trader (6-12 months)', 2),\n",
    "        ('Long-term trader (>12 months)', 3),\n",
    "    ],\n",
    "    description='Strategy:',\n",
    "    style={'description_width': 'initial'}\n",
    ")\n",
    "strategy_var.observe(on_strategy_change)\n",
    "\n",
    "crossover_var = widgets.Dropdown(description='Crossover:', options=[])\n",
    "\n",
    "submit_button = widgets.Button(description=\"Submit\")\n",
    "submit_button.on_click(on_submit)\n",
    "\n",
    "display(ticker_var, start_date_var, end_date_var, strategy_var, crossover_var, submit_button)\n",
    "\n"
   ]
  },
  {
   "cell_type": "markdown",
   "id": "65d41549-fc19-4fee-ab77-943ee1b61248",
   "metadata": {},
   "source": [
    "# User Inputs"
   ]
  },
  {
   "cell_type": "code",
   "execution_count": 3,
   "id": "8cfdcf44-0778-48d8-b3ad-305d153c8e3d",
   "metadata": {},
   "outputs": [
    {
     "name": "stdout",
     "output_type": "stream",
     "text": [
      "Ticker:  spy\n",
      "Start date:  2020-01-01\n",
      "End date:  1202-01-01\n",
      "Short window:  10\n",
      "Long window:  30\n"
     ]
    }
   ],
   "source": [
    "ticker = ticker_var.value\n",
    "start_date =  start_date_var.value\n",
    "end_date = end_date_var.value\n",
    "short_window = crossover_mapping[crossover_var.value][0]\n",
    "long_window = crossover_mapping[crossover_var.value][1]\n",
    "\n",
    "print(\"Ticker: \", ticker)\n",
    "print(\"Start date: \",start_date)\n",
    "print(\"End date: \",end_date)\n",
    "print(\"Short window: \",short_window)\n",
    "print(\"Long window: \",long_window)"
   ]
  },
  {
   "cell_type": "code",
   "execution_count": 9,
   "id": "016f863a-cfd9-4943-a385-014d134afce5",
   "metadata": {},
   "outputs": [
    {
     "name": "stdout",
     "output_type": "stream",
     "text": [
      "Stored 'ticker' (str)\n",
      "Stored 'start_date' (date)\n",
      "Stored 'end_date' (date)\n",
      "Stored 'short_window' (int)\n",
      "Stored 'long_window' (int)\n"
     ]
    }
   ],
   "source": [
    "# Store data\n",
    "%store ticker\n",
    "%store start_date\n",
    "%store end_date\n",
    "%store short_window\n",
    "%store long_window"
   ]
  },
  {
   "cell_type": "markdown",
   "id": "20693574-777a-4f0e-80c7-71b419d3e501",
   "metadata": {},
   "source": [
    "# ____________________________________________________________________________________________________________\n"
   ]
  },
  {
   "cell_type": "markdown",
   "id": "fc90cb89-3fc0-4770-bcf1-22159190a6a9",
   "metadata": {},
   "source": [
    "### Notes below are other ways to do it"
   ]
  },
  {
   "cell_type": "code",
   "execution_count": 4,
   "id": "bf801900-0a94-49ad-bab8-28097f2dd314",
   "metadata": {},
   "outputs": [
    {
     "ename": "IndentationError",
     "evalue": "unexpected indent (3627155115.py, line 5)",
     "output_type": "error",
     "traceback": [
      "\u001b[1;36m  File \u001b[1;32m\"C:\\Users\\super\\AppData\\Local\\Temp\\ipykernel_37604\\3627155115.py\"\u001b[1;36m, line \u001b[1;32m5\u001b[0m\n\u001b[1;33m    1 = Short-term trader (<6 months)\u001b[0m\n\u001b[1;37m    ^\u001b[0m\n\u001b[1;31mIndentationError\u001b[0m\u001b[1;31m:\u001b[0m unexpected indent\n"
     ]
    }
   ],
   "source": [
    "# Ask user for input\n",
    "\n",
    "#ticker = input(\"Enter the ticker symbol of the stock: \")\n",
    "#strategy_choice = int(input(\"\"\"Choose a trading strategy:\n",
    "                            1 = Short-term trader (<6 months)\n",
    "                            2 = Medium-term trader (6-12 months)\n",
    "                            3 = long-term trader (>12 months)\n",
    "                            \"\"\"))\n",
    "\n",
    "\n",
    "if strategy_choice == 1:\n",
    "    crossover_choice = int(input(\"Choose a crossover strategy (1 = 5 days/10 days), (2 = 5 days/15 days), (3 = 10 days/20 days): \"))\n",
    "elif strategy_choice == 2:\n",
    "    crossover_choice = int(input(\"Choose a crossover strategy (1 = 10 days/30 days), (2 = 10 days/50 days), (3 = 20 days/100 days): \"))\n",
    "elif strategy_choice == 3:\n",
    "    crossover_choice = int(input(\"Choose a crossover strategy (1 = 50 days/200 days), (2 = 100 days/200 days), (3 = 50 days/365 days), (4 = 100 days/365 days): \"))\n",
    "else:\n",
    "    print(\"Invalid strategy choice. Please enter 1, 2, or 3.\")"
   ]
  },
  {
   "cell_type": "markdown",
   "id": "01d7232e-2c83-4f5b-bce9-5910afb6cc84",
   "metadata": {},
   "source": [
    "# def get_crossover_days(strategy_choice, crossover_choice):\n",
    "    if strategy_choice == 1:\n",
    "        crossover_days = {\n",
    "            1: (5, 10),\n",
    "            2: (5, 15),\n",
    "            3: (10, 20)\n",
    "        }\n",
    "    elif strategy_choice == 2:\n",
    "        crossover_days = {\n",
    "            1: (10, 30),\n",
    "            2: (10, 50),\n",
    "            3: (20, 100)\n",
    "        }\n",
    "    elif strategy_choice == 3:\n",
    "        crossover_days = {\n",
    "            1: (50, 200),\n",
    "            2: (100, 200),\n",
    "            3: (50, 365),\n",
    "            4: (100, 365)\n",
    "        }\n",
    "    else:\n",
    "        return None\n",
    "\n",
    "    return crossover_days.get(crossover_choice, None)\n",
    "\n",
    "# Get the selected moving average days\n",
    "short_days, long_days = get_crossover_days(strategy_choice, crossover_choice)\n",
    "\n",
    "if short_days and long_days:\n",
    "    print(f\"Selected crossover strategy: {short_days}-day / {long_days}-day moving averages\")\n",
    "else:\n",
    "    print(\"Invalid crossover choice. Please try again.\")\n"
   ]
  },
  {
   "cell_type": "code",
   "execution_count": null,
   "id": "86ce4607-f62b-4a06-8658-9644880c8426",
   "metadata": {},
   "outputs": [],
   "source": []
  }
 ],
 "metadata": {
  "kernelspec": {
   "display_name": "Python (dev)",
   "language": "python",
   "name": "dev"
  },
  "language_info": {
   "codemirror_mode": {
    "name": "ipython",
    "version": 3
   },
   "file_extension": ".py",
   "mimetype": "text/x-python",
   "name": "python",
   "nbconvert_exporter": "python",
   "pygments_lexer": "ipython3",
   "version": "3.7.13"
  }
 },
 "nbformat": 4,
 "nbformat_minor": 5
}
