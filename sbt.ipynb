{
 "cells": [
  {
   "cell_type": "code",
   "execution_count": null,
   "id": "bb0273b0-7965-45ca-9d5c-f0f2eaed0658",
   "metadata": {},
   "outputs": [],
   "source": [
    "# Backtesting function\n",
    "def backtest(signals, stock_data, initial_capital=10000):\n",
    "    positions = pd.DataFrame(index=signals.index).fillna(0)\n",
    "    positions['stock'] = signals['position'] * stock_data['Close']\n",
    "    portfolio = positions.multiply(stock_data['Close'], axis=0)\n",
    "    pos_diff = positions.diff()\n",
    "    portfolio['holdings'] = (positions.multiply(stock_data['Close'], axis=0)).sum(axis=1)\n",
    "    portfolio['cash'] = initial_capital - (pos_diff.multiply(stock_data['Close'], axis=0)).sum(axis=1).cumsum()\n",
    "    portfolio['total'] = portfolio['cash'] + portfolio['holdings']\n",
    "    portfolio['returns'] = portfolio['total'].pct_change()\n",
    "    return portfolio\n",
    "\n",
    "# Execute the chosen EMA crossover strategy and plot the results\n",
    "if strategy_choice == \"1\":\n",
    "    signals = day_trader_strategy(ticker)\n",
    "    stock_data = yf.download(ticker, period=\"1d\", interval=\"5m\")\n",
    "elif strategy_choice == \"2\":\n",
    "    signals = swing_trader_strategy(ticker)\n",
    "    stock_data = yf.download(ticker, period=\"1y\", interval=\"1d\")\n",
    "elif strategy_choice == \"3\":\n",
    "    signals = long_term_trader_strategy(ticker)\n",
    "    stock_data = yf.download(ticker, period=\"5y\", interval=\"1d\")\n",
    "else:\n",
    "    print(\"Invalid strategy choice.\")\n",
    "    stock_data = None\n",
    "    \n",
    "# Perform backtesting and print the results\n",
    "if stock_data is not None:\n",
    "    print(signals)\n",
    "    portfolio = backtest(signals, stock_data)\n",
    "    print(\"\\nBacktesting Results:\")\n",
    "    print(portfolio)"
   ]
  }
 ],
 "metadata": {
  "kernelspec": {
   "display_name": "Python (dev)",
   "language": "python",
   "name": "dev"
  },
  "language_info": {
   "codemirror_mode": {
    "name": "ipython",
    "version": 3
   },
   "file_extension": ".py",
   "mimetype": "text/x-python",
   "name": "python",
   "nbconvert_exporter": "python",
   "pygments_lexer": "ipython3",
   "version": "3.7.13"
  }
 },
 "nbformat": 4,
 "nbformat_minor": 5
}
